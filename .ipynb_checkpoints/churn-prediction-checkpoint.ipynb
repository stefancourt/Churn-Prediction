{
 "cells": [
  {
   "cell_type": "code",
   "execution_count": 1,
   "id": "d8e2fa4c",
   "metadata": {
    "scrolled": false
   },
   "outputs": [],
   "source": [
    "import numpy as np\n",
    "import pandas as pd\n",
    "import matplotlib.pyplot as plt\n",
    "import seaborn as sns"
   ]
  },
  {
   "cell_type": "code",
   "execution_count": 2,
   "id": "0776d984",
   "metadata": {},
   "outputs": [
    {
     "data": {
      "text/plain": [
       "Index(['customer_id', 'credit_score', 'country', 'gender', 'age', 'tenure',\n",
       "       'balance', 'products_number', 'credit_card', 'active_member',\n",
       "       'estimated_salary', 'churn'],\n",
       "      dtype='object')"
      ]
     },
     "execution_count": 2,
     "metadata": {},
     "output_type": "execute_result"
    }
   ],
   "source": [
    "df = pd.read_csv('train.csv', sep=\",\")\n",
    "df.columns"
   ]
  },
  {
   "cell_type": "code",
   "execution_count": 3,
   "id": "91535213",
   "metadata": {},
   "outputs": [
    {
     "data": {
      "text/html": [
       "<div>\n",
       "<style scoped>\n",
       "    .dataframe tbody tr th:only-of-type {\n",
       "        vertical-align: middle;\n",
       "    }\n",
       "\n",
       "    .dataframe tbody tr th {\n",
       "        vertical-align: top;\n",
       "    }\n",
       "\n",
       "    .dataframe thead th {\n",
       "        text-align: right;\n",
       "    }\n",
       "</style>\n",
       "<table border=\"1\" class=\"dataframe\">\n",
       "  <thead>\n",
       "    <tr style=\"text-align: right;\">\n",
       "      <th></th>\n",
       "      <th>customer_id</th>\n",
       "      <th>credit_score</th>\n",
       "      <th>country</th>\n",
       "      <th>gender</th>\n",
       "      <th>age</th>\n",
       "      <th>tenure</th>\n",
       "      <th>balance</th>\n",
       "      <th>products_number</th>\n",
       "      <th>credit_card</th>\n",
       "      <th>active_member</th>\n",
       "      <th>estimated_salary</th>\n",
       "      <th>churn</th>\n",
       "    </tr>\n",
       "  </thead>\n",
       "  <tbody>\n",
       "    <tr>\n",
       "      <th>0</th>\n",
       "      <td>15634602</td>\n",
       "      <td>619</td>\n",
       "      <td>France</td>\n",
       "      <td>Female</td>\n",
       "      <td>42</td>\n",
       "      <td>2</td>\n",
       "      <td>0.00</td>\n",
       "      <td>1</td>\n",
       "      <td>1</td>\n",
       "      <td>1</td>\n",
       "      <td>101348.88</td>\n",
       "      <td>1</td>\n",
       "    </tr>\n",
       "    <tr>\n",
       "      <th>1</th>\n",
       "      <td>15647311</td>\n",
       "      <td>608</td>\n",
       "      <td>Spain</td>\n",
       "      <td>Female</td>\n",
       "      <td>41</td>\n",
       "      <td>1</td>\n",
       "      <td>83807.86</td>\n",
       "      <td>1</td>\n",
       "      <td>0</td>\n",
       "      <td>1</td>\n",
       "      <td>112542.58</td>\n",
       "      <td>0</td>\n",
       "    </tr>\n",
       "    <tr>\n",
       "      <th>2</th>\n",
       "      <td>15619304</td>\n",
       "      <td>502</td>\n",
       "      <td>France</td>\n",
       "      <td>Female</td>\n",
       "      <td>42</td>\n",
       "      <td>8</td>\n",
       "      <td>159660.80</td>\n",
       "      <td>3</td>\n",
       "      <td>1</td>\n",
       "      <td>0</td>\n",
       "      <td>113931.57</td>\n",
       "      <td>1</td>\n",
       "    </tr>\n",
       "    <tr>\n",
       "      <th>3</th>\n",
       "      <td>15701354</td>\n",
       "      <td>699</td>\n",
       "      <td>France</td>\n",
       "      <td>Female</td>\n",
       "      <td>39</td>\n",
       "      <td>1</td>\n",
       "      <td>0.00</td>\n",
       "      <td>2</td>\n",
       "      <td>0</td>\n",
       "      <td>0</td>\n",
       "      <td>93826.63</td>\n",
       "      <td>0</td>\n",
       "    </tr>\n",
       "    <tr>\n",
       "      <th>4</th>\n",
       "      <td>15737888</td>\n",
       "      <td>850</td>\n",
       "      <td>Spain</td>\n",
       "      <td>Female</td>\n",
       "      <td>43</td>\n",
       "      <td>2</td>\n",
       "      <td>125510.82</td>\n",
       "      <td>1</td>\n",
       "      <td>1</td>\n",
       "      <td>1</td>\n",
       "      <td>79084.10</td>\n",
       "      <td>0</td>\n",
       "    </tr>\n",
       "  </tbody>\n",
       "</table>\n",
       "</div>"
      ],
      "text/plain": [
       "   customer_id  credit_score country  gender  age  tenure    balance  \\\n",
       "0     15634602           619  France  Female   42       2       0.00   \n",
       "1     15647311           608   Spain  Female   41       1   83807.86   \n",
       "2     15619304           502  France  Female   42       8  159660.80   \n",
       "3     15701354           699  France  Female   39       1       0.00   \n",
       "4     15737888           850   Spain  Female   43       2  125510.82   \n",
       "\n",
       "   products_number  credit_card  active_member  estimated_salary  churn  \n",
       "0                1            1              1         101348.88      1  \n",
       "1                1            0              1         112542.58      0  \n",
       "2                3            1              0         113931.57      1  \n",
       "3                2            0              0          93826.63      0  \n",
       "4                1            1              1          79084.10      0  "
      ]
     },
     "execution_count": 3,
     "metadata": {},
     "output_type": "execute_result"
    }
   ],
   "source": [
    "df.head()"
   ]
  },
  {
   "cell_type": "code",
   "execution_count": 4,
   "id": "fe1b20b7",
   "metadata": {},
   "outputs": [
    {
     "data": {
      "text/plain": [
       "(10000, 12)"
      ]
     },
     "execution_count": 4,
     "metadata": {},
     "output_type": "execute_result"
    }
   ],
   "source": [
    "df.shape"
   ]
  },
  {
   "cell_type": "code",
   "execution_count": 5,
   "id": "5b238aac",
   "metadata": {},
   "outputs": [
    {
     "data": {
      "text/plain": [
       "Index(['customer_id', 'credit_score', 'country', 'gender', 'age', 'tenure',\n",
       "       'balance', 'products_number', 'credit_card', 'active_member',\n",
       "       'estimated_salary', 'churn'],\n",
       "      dtype='object')"
      ]
     },
     "execution_count": 5,
     "metadata": {},
     "output_type": "execute_result"
    }
   ],
   "source": [
    "df.columns"
   ]
  },
  {
   "cell_type": "markdown",
   "id": "3790e6a2",
   "metadata": {},
   "source": [
    "## Data preparation and cleaning"
   ]
  },
  {
   "cell_type": "code",
   "execution_count": 6,
   "id": "4dc0f57e",
   "metadata": {},
   "outputs": [
    {
     "data": {
      "text/plain": [
       "customer_id         10000\n",
       "credit_score          460\n",
       "country                 3\n",
       "gender                  2\n",
       "age                    70\n",
       "tenure                 11\n",
       "balance              6382\n",
       "products_number         4\n",
       "credit_card             2\n",
       "active_member           2\n",
       "estimated_salary     9999\n",
       "churn                   2\n",
       "dtype: int64"
      ]
     },
     "execution_count": 6,
     "metadata": {},
     "output_type": "execute_result"
    }
   ],
   "source": [
    "df.nunique()"
   ]
  },
  {
   "cell_type": "code",
   "execution_count": 7,
   "id": "3e111d02",
   "metadata": {
    "scrolled": true
   },
   "outputs": [
    {
     "data": {
      "text/plain": [
       "customer_id         0\n",
       "credit_score        0\n",
       "country             0\n",
       "gender              0\n",
       "age                 0\n",
       "tenure              0\n",
       "balance             0\n",
       "products_number     0\n",
       "credit_card         0\n",
       "active_member       0\n",
       "estimated_salary    0\n",
       "churn               0\n",
       "dtype: int64"
      ]
     },
     "execution_count": 7,
     "metadata": {},
     "output_type": "execute_result"
    }
   ],
   "source": [
    "df.isnull().sum()"
   ]
  },
  {
   "cell_type": "code",
   "execution_count": 8,
   "id": "717d1eaf",
   "metadata": {},
   "outputs": [
    {
     "name": "stdout",
     "output_type": "stream",
     "text": [
      "Amount of duplicated values: 0\n"
     ]
    }
   ],
   "source": [
    "print(\"Amount of duplicated values:\",df.duplicated().sum())"
   ]
  },
  {
   "cell_type": "code",
   "execution_count": 9,
   "id": "4ac73606",
   "metadata": {},
   "outputs": [
    {
     "data": {
      "text/plain": [
       "churn\n",
       "0    7963\n",
       "1    2037\n",
       "Name: count, dtype: int64"
      ]
     },
     "execution_count": 9,
     "metadata": {},
     "output_type": "execute_result"
    }
   ],
   "source": [
    "df['churn'].value_counts()\n",
    "#data is imbalanced as 80% of people have not churned their account."
   ]
  },
  {
   "cell_type": "markdown",
   "id": "7f7eef1a",
   "metadata": {},
   "source": [
    "## Data processing and visualisation"
   ]
  },
  {
   "cell_type": "code",
   "execution_count": 10,
   "id": "b0a9da21",
   "metadata": {},
   "outputs": [
    {
     "data": {
      "image/png": "[encoded data removed]",
      "text/plain": [
       "<Figure size 504x504 with 1 Axes>"
      ]
     },
     "metadata": {},
     "output_type": "display_data"
    }
   ],
   "source": [
    "#pie chart for the data visualisation of amount of people that have churned\n",
    "mylabels = 'Stayed', 'Churned'\n",
    "myexplode = [0, 0.1]\n",
    "mycolors = sns.color_palette(\"Purples\", 2)\n",
    "amounts = [df.churn[df['churn']==0].count(), df.churn[df['churn']==1].count()]\n",
    "plt.figure(figsize=(7,7))\n",
    "plt.pie(amounts, explode=myexplode, labels=mylabels, shadow=True, startangle=90, colors=mycolors, autopct='%1.1f%%', wedgeprops={\"edgecolor\":\"k\",'linewidth': 1, 'antialiased': True})\n",
    "plt.show()"
   ]
  },
  {
   "cell_type": "code",
   "execution_count": 12,
   "id": "ef5f207f",
   "metadata": {},
   "outputs": [
    {
     "data": {
      "image/png": "[encoded data removed]",
      "text/plain": [
       "<Figure size 720x720 with 5 Axes>"
      ]
     },
     "metadata": {
      "needs_background": "light"
     },
     "output_type": "display_data"
    }
   ],
   "source": [
    "plt.figure(figsize=(10, 10))\n",
    "plt.subplot(3,2,1)\n",
    "plt.xlabel('active_member', fontsize=10)\n",
    "plt.ylabel('count', fontsize=10)\n",
    "count_plt = sns.countplot(data=df, x='active_member', hue='churn', order=df['active_member'].value_counts().index, palette=mycolors , edgecolor=\"black\")\n",
    "\n",
    "plt.subplot(3,2,2)\n",
    "plt.xlabel('gender', fontsize=10)\n",
    "plt.ylabel('count', fontsize=10)\n",
    "count_plt = sns.countplot(data=df, x='gender', hue='churn', order=df['gender'].value_counts().index, palette=mycolors, edgecolor=\"black\")\n",
    "\n",
    "plt.subplot(3,2,3)\n",
    "plt.xlabel('credit_card', fontsize=10)\n",
    "plt.ylabel('count', fontsize=10)\n",
    "count_plt = sns.countplot(data=df, x='credit_card', hue='churn', order=df['credit_card'].value_counts().index, palette=mycolors, edgecolor=\"black\")\n",
    "\n",
    "plt.subplot(3,2,4)\n",
    "plt.xlabel('country', fontsize=10)\n",
    "plt.ylabel('count', fontsize=10)\n",
    "count_plt = sns.countplot(data=df, x='country', hue='churn', order=df['country'].value_counts().index, palette=mycolors, edgecolor=\"black\")\n",
    "\n",
    "plt.subplot(3,2,5)\n",
    "plt.xlabel('products_number', fontsize=10)\n",
    "plt.ylabel('count', fontsize=10)\n",
    "count_plt = sns.countplot(data=df, x='products_number', hue='churn', order=df['products_number'].value_counts().index, palette=mycolors, edgecolor=\"black\")\n",
    "\n",
    "\n"
   ]
  },
  {
   "cell_type": "markdown",
   "id": "b86ea031",
   "metadata": {},
   "source": [
    "From the above bar graphs we can see that "
   ]
  }
 ],
 "metadata": {
  "kernelspec": {
   "display_name": "Python 3 (ipykernel)",
   "language": "python",
   "name": "python3"
  },
  "language_info": {
   "codemirror_mode": {
    "name": "ipython",
    "version": 3
   },
   "file_extension": ".py",
   "mimetype": "text/x-python",
   "name": "python",
   "nbconvert_exporter": "python",
   "pygments_lexer": "ipython3",
   "version": "3.9.6"
  }
 },
 "nbformat": 4,
 "nbformat_minor": 5
}
